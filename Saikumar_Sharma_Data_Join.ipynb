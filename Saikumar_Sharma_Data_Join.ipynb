{
 "cells": [
  {
   "cell_type": "code",
   "execution_count": 1,
   "metadata": {},
   "outputs": [],
   "source": [
    "import pandas as pd"
   ]
  },
  {
   "cell_type": "code",
   "execution_count": 2,
   "metadata": {},
   "outputs": [
    {
     "data": {
      "text/plain": [
       "'0.25.1'"
      ]
     },
     "execution_count": 2,
     "metadata": {},
     "output_type": "execute_result"
    }
   ],
   "source": [
    "pd.__version__"
   ]
  },
  {
   "cell_type": "markdown",
   "metadata": {},
   "source": [
    "Load the first excel file into a dataframe after stripping away the header records"
   ]
  },
  {
   "cell_type": "code",
   "execution_count": 3,
   "metadata": {},
   "outputs": [],
   "source": [
    "dl1c_df = pd.read_excel(\"dl1c.xls\",index_col=0,skiprows=[0,1,2,3,4,5,6,7,8,9,10,11,12])"
   ]
  },
  {
   "cell_type": "code",
   "execution_count": 4,
   "metadata": {},
   "outputs": [
    {
     "data": {
      "text/plain": [
       "(54, 12)"
      ]
     },
     "execution_count": 4,
     "metadata": {},
     "output_type": "execute_result"
    }
   ],
   "source": [
    "dl1c_df.shape"
   ]
  },
  {
   "cell_type": "markdown",
   "metadata": {},
   "source": [
    "Assign meaningful column names to the dataframe"
   ]
  },
  {
   "cell_type": "code",
   "execution_count": 5,
   "metadata": {},
   "outputs": [],
   "source": [
    "dl1c_cols = ['male_drivers',\"percnt_male_of_tot\",'female_drivers','percnt_female_of_tot','tot_drivers',\n",
    "             'ratio_lic_drivers_to_reg_veh','tot_resident',\"male_16+\",\"female_16+\",\"tot_16+\",\n",
    "             'drivers_per_1k_tot_resident','drivers_per_1k_driving_age']"
   ]
  },
  {
   "cell_type": "code",
   "execution_count": 6,
   "metadata": {},
   "outputs": [],
   "source": [
    "dl1c_df.columns = dl1c_cols"
   ]
  },
  {
   "cell_type": "code",
   "execution_count": 7,
   "metadata": {},
   "outputs": [
    {
     "data": {
      "text/html": [
       "<div>\n",
       "<style scoped>\n",
       "    .dataframe tbody tr th:only-of-type {\n",
       "        vertical-align: middle;\n",
       "    }\n",
       "\n",
       "    .dataframe tbody tr th {\n",
       "        vertical-align: top;\n",
       "    }\n",
       "\n",
       "    .dataframe thead th {\n",
       "        text-align: right;\n",
       "    }\n",
       "</style>\n",
       "<table border=\"1\" class=\"dataframe\">\n",
       "  <thead>\n",
       "    <tr style=\"text-align: right;\">\n",
       "      <th></th>\n",
       "      <th>male_drivers</th>\n",
       "      <th>percnt_male_of_tot</th>\n",
       "      <th>female_drivers</th>\n",
       "      <th>percnt_female_of_tot</th>\n",
       "      <th>tot_drivers</th>\n",
       "      <th>ratio_lic_drivers_to_reg_veh</th>\n",
       "      <th>tot_resident</th>\n",
       "      <th>male_16+</th>\n",
       "      <th>female_16+</th>\n",
       "      <th>tot_16+</th>\n",
       "      <th>drivers_per_1k_tot_resident</th>\n",
       "      <th>drivers_per_1k_driving_age</th>\n",
       "    </tr>\n",
       "  </thead>\n",
       "  <tbody>\n",
       "    <tr>\n",
       "      <td>Alabama</td>\n",
       "      <td>1887023.0</td>\n",
       "      <td>48.62</td>\n",
       "      <td>1994519.0</td>\n",
       "      <td>51.38</td>\n",
       "      <td>3881542.0</td>\n",
       "      <td>0.729488</td>\n",
       "      <td>4849377</td>\n",
       "      <td>1850520.0</td>\n",
       "      <td>2018569.0</td>\n",
       "      <td>3869089.0</td>\n",
       "      <td>800.420755</td>\n",
       "      <td>1003.218587</td>\n",
       "    </tr>\n",
       "    <tr>\n",
       "      <td>Alaska  2/</td>\n",
       "      <td>250745.0</td>\n",
       "      <td>47.16</td>\n",
       "      <td>280999.0</td>\n",
       "      <td>52.84</td>\n",
       "      <td>531744.0</td>\n",
       "      <td>0.677566</td>\n",
       "      <td>736732</td>\n",
       "      <td>301326.0</td>\n",
       "      <td>268918.0</td>\n",
       "      <td>570244.0</td>\n",
       "      <td>721.760423</td>\n",
       "      <td>932.485041</td>\n",
       "    </tr>\n",
       "    <tr>\n",
       "      <td>Arizona</td>\n",
       "      <td>2453665.0</td>\n",
       "      <td>50.26</td>\n",
       "      <td>2428136.0</td>\n",
       "      <td>49.74</td>\n",
       "      <td>4881801.0</td>\n",
       "      <td>0.884340</td>\n",
       "      <td>6731484</td>\n",
       "      <td>2609768.0</td>\n",
       "      <td>2681353.0</td>\n",
       "      <td>5291121.0</td>\n",
       "      <td>725.219134</td>\n",
       "      <td>922.640212</td>\n",
       "    </tr>\n",
       "    <tr>\n",
       "      <td>Arkansas</td>\n",
       "      <td>1038874.0</td>\n",
       "      <td>49.19</td>\n",
       "      <td>1072999.0</td>\n",
       "      <td>50.81</td>\n",
       "      <td>2111873.0</td>\n",
       "      <td>0.773777</td>\n",
       "      <td>2966369</td>\n",
       "      <td>1136553.0</td>\n",
       "      <td>1202216.0</td>\n",
       "      <td>2338769.0</td>\n",
       "      <td>711.938737</td>\n",
       "      <td>902.984861</td>\n",
       "    </tr>\n",
       "    <tr>\n",
       "      <td>California</td>\n",
       "      <td>12562214.0</td>\n",
       "      <td>50.63</td>\n",
       "      <td>12251132.0</td>\n",
       "      <td>49.37</td>\n",
       "      <td>24813346.0</td>\n",
       "      <td>0.887987</td>\n",
       "      <td>38802500</td>\n",
       "      <td>15129276.0</td>\n",
       "      <td>15565575.0</td>\n",
       "      <td>30694851.0</td>\n",
       "      <td>639.478023</td>\n",
       "      <td>808.387895</td>\n",
       "    </tr>\n",
       "  </tbody>\n",
       "</table>\n",
       "</div>"
      ],
      "text/plain": [
       "            male_drivers  percnt_male_of_tot  female_drivers  \\\n",
       "Alabama        1887023.0               48.62       1994519.0   \n",
       "Alaska  2/      250745.0               47.16        280999.0   \n",
       "Arizona        2453665.0               50.26       2428136.0   \n",
       "Arkansas       1038874.0               49.19       1072999.0   \n",
       "California    12562214.0               50.63      12251132.0   \n",
       "\n",
       "            percnt_female_of_tot  tot_drivers  ratio_lic_drivers_to_reg_veh  \\\n",
       "Alabama                    51.38    3881542.0                      0.729488   \n",
       "Alaska  2/                 52.84     531744.0                      0.677566   \n",
       "Arizona                    49.74    4881801.0                      0.884340   \n",
       "Arkansas                   50.81    2111873.0                      0.773777   \n",
       "California                 49.37   24813346.0                      0.887987   \n",
       "\n",
       "           tot_resident    male_16+  female_16+     tot_16+  \\\n",
       "Alabama         4849377   1850520.0   2018569.0   3869089.0   \n",
       "Alaska  2/       736732    301326.0    268918.0    570244.0   \n",
       "Arizona         6731484   2609768.0   2681353.0   5291121.0   \n",
       "Arkansas        2966369   1136553.0   1202216.0   2338769.0   \n",
       "California     38802500  15129276.0  15565575.0  30694851.0   \n",
       "\n",
       "            drivers_per_1k_tot_resident  drivers_per_1k_driving_age  \n",
       "Alabama                      800.420755                 1003.218587  \n",
       "Alaska  2/                   721.760423                  932.485041  \n",
       "Arizona                      725.219134                  922.640212  \n",
       "Arkansas                     711.938737                  902.984861  \n",
       "California                   639.478023                  808.387895  "
      ]
     },
     "execution_count": 7,
     "metadata": {},
     "output_type": "execute_result"
    }
   ],
   "source": [
    "dl1c_df.head()"
   ]
  },
  {
   "cell_type": "markdown",
   "metadata": {},
   "source": [
    "Strip the digits, forward slashes and whitespaces from the index names"
   ]
  },
  {
   "cell_type": "code",
   "execution_count": 8,
   "metadata": {},
   "outputs": [],
   "source": [
    "dl1c_df.index = dl1c_df.index.str.replace('\\d+','').str.rstrip('\\/').str.strip()"
   ]
  },
  {
   "cell_type": "code",
   "execution_count": 9,
   "metadata": {},
   "outputs": [
    {
     "data": {
      "text/plain": [
       "Index(['Alabama', 'Alaska', 'Arizona', 'Arkansas', 'California', 'Colorado',\n",
       "       'Connecticut', 'Delaware', 'Dist. of Col.', 'Florida', 'Georgia',\n",
       "       'Hawaii', 'Idaho', 'Illinois', 'Indiana', 'Iowa', 'Kansas', 'Kentucky',\n",
       "       'Louisiana', 'Maine', 'Maryland', 'Massachusetts', 'Michigan',\n",
       "       'Minnesota', 'Mississippi', 'Missouri', 'Montana', 'Nebraska', 'Nevada',\n",
       "       'New Hampshire', 'New Jersey', 'New Mexico', 'New York',\n",
       "       'North Carolina', 'North Dakota', 'Ohio', 'Oklahoma', 'Oregon',\n",
       "       'Pennsylvania', 'Rhode Island', 'South Carolina', 'South Dakota',\n",
       "       'Tennessee', 'Texas', 'Utah', 'Vermont', 'Virginia', 'Washington',\n",
       "       'West Virginia', 'Wisconsin', 'Wyoming', 'Total',\n",
       "       '/  Include restricted drivers and graduated driver licenses.',\n",
       "       '/  Age and/or sex segregation estimated by FHWA.'],\n",
       "      dtype='object')"
      ]
     },
     "execution_count": 9,
     "metadata": {},
     "output_type": "execute_result"
    }
   ],
   "source": [
    "dl1c_df.index"
   ]
  },
  {
   "cell_type": "markdown",
   "metadata": {},
   "source": [
    "Delete unnecessary footer rows from the bottom of the dataframe"
   ]
  },
  {
   "cell_type": "code",
   "execution_count": 10,
   "metadata": {},
   "outputs": [],
   "source": [
    "dl1c_df = dl1c_df.iloc[:-3,:]"
   ]
  },
  {
   "cell_type": "code",
   "execution_count": 11,
   "metadata": {},
   "outputs": [
    {
     "data": {
      "text/html": [
       "<div>\n",
       "<style scoped>\n",
       "    .dataframe tbody tr th:only-of-type {\n",
       "        vertical-align: middle;\n",
       "    }\n",
       "\n",
       "    .dataframe tbody tr th {\n",
       "        vertical-align: top;\n",
       "    }\n",
       "\n",
       "    .dataframe thead th {\n",
       "        text-align: right;\n",
       "    }\n",
       "</style>\n",
       "<table border=\"1\" class=\"dataframe\">\n",
       "  <thead>\n",
       "    <tr style=\"text-align: right;\">\n",
       "      <th></th>\n",
       "      <th>male_drivers</th>\n",
       "      <th>percnt_male_of_tot</th>\n",
       "      <th>female_drivers</th>\n",
       "      <th>percnt_female_of_tot</th>\n",
       "      <th>tot_drivers</th>\n",
       "      <th>ratio_lic_drivers_to_reg_veh</th>\n",
       "      <th>tot_resident</th>\n",
       "      <th>male_16+</th>\n",
       "      <th>female_16+</th>\n",
       "      <th>tot_16+</th>\n",
       "      <th>drivers_per_1k_tot_resident</th>\n",
       "      <th>drivers_per_1k_driving_age</th>\n",
       "    </tr>\n",
       "  </thead>\n",
       "  <tbody>\n",
       "    <tr>\n",
       "      <td>Virginia</td>\n",
       "      <td>2.809780e+06</td>\n",
       "      <td>48.70</td>\n",
       "      <td>2.959283e+06</td>\n",
       "      <td>51.30</td>\n",
       "      <td>5.769063e+06</td>\n",
       "      <td>0.821550</td>\n",
       "      <td>8326289</td>\n",
       "      <td>3247094.0</td>\n",
       "      <td>3418338.0</td>\n",
       "      <td>6665432.0</td>\n",
       "      <td>692.873260</td>\n",
       "      <td>865.519744</td>\n",
       "    </tr>\n",
       "    <tr>\n",
       "      <td>Washington</td>\n",
       "      <td>2.790748e+06</td>\n",
       "      <td>51.67</td>\n",
       "      <td>2.610391e+06</td>\n",
       "      <td>48.33</td>\n",
       "      <td>5.401139e+06</td>\n",
       "      <td>0.854013</td>\n",
       "      <td>7061530</td>\n",
       "      <td>2802234.0</td>\n",
       "      <td>2836195.0</td>\n",
       "      <td>5638429.0</td>\n",
       "      <td>764.868095</td>\n",
       "      <td>957.915583</td>\n",
       "    </tr>\n",
       "    <tr>\n",
       "      <td>West Virginia</td>\n",
       "      <td>5.820466e+05</td>\n",
       "      <td>49.67</td>\n",
       "      <td>5.898602e+05</td>\n",
       "      <td>50.33</td>\n",
       "      <td>1.171907e+06</td>\n",
       "      <td>0.776182</td>\n",
       "      <td>1850326</td>\n",
       "      <td>741935.0</td>\n",
       "      <td>771897.0</td>\n",
       "      <td>1513832.0</td>\n",
       "      <td>633.351499</td>\n",
       "      <td>774.132629</td>\n",
       "    </tr>\n",
       "    <tr>\n",
       "      <td>Wisconsin</td>\n",
       "      <td>2.096238e+06</td>\n",
       "      <td>50.05</td>\n",
       "      <td>2.091956e+06</td>\n",
       "      <td>49.95</td>\n",
       "      <td>4.188194e+06</td>\n",
       "      <td>0.796763</td>\n",
       "      <td>5757564</td>\n",
       "      <td>2271230.0</td>\n",
       "      <td>2336067.0</td>\n",
       "      <td>4607297.0</td>\n",
       "      <td>727.424654</td>\n",
       "      <td>909.034950</td>\n",
       "    </tr>\n",
       "    <tr>\n",
       "      <td>Wyoming</td>\n",
       "      <td>2.174810e+05</td>\n",
       "      <td>51.29</td>\n",
       "      <td>2.065060e+05</td>\n",
       "      <td>48.71</td>\n",
       "      <td>4.239870e+05</td>\n",
       "      <td>0.520003</td>\n",
       "      <td>584153</td>\n",
       "      <td>235007.0</td>\n",
       "      <td>225992.0</td>\n",
       "      <td>460999.0</td>\n",
       "      <td>725.814983</td>\n",
       "      <td>919.713492</td>\n",
       "    </tr>\n",
       "  </tbody>\n",
       "</table>\n",
       "</div>"
      ],
      "text/plain": [
       "               male_drivers  percnt_male_of_tot  female_drivers  \\\n",
       "Virginia       2.809780e+06               48.70    2.959283e+06   \n",
       "Washington     2.790748e+06               51.67    2.610391e+06   \n",
       "West Virginia  5.820466e+05               49.67    5.898602e+05   \n",
       "Wisconsin      2.096238e+06               50.05    2.091956e+06   \n",
       "Wyoming        2.174810e+05               51.29    2.065060e+05   \n",
       "\n",
       "               percnt_female_of_tot   tot_drivers  \\\n",
       "Virginia                      51.30  5.769063e+06   \n",
       "Washington                    48.33  5.401139e+06   \n",
       "West Virginia                 50.33  1.171907e+06   \n",
       "Wisconsin                     49.95  4.188194e+06   \n",
       "Wyoming                       48.71  4.239870e+05   \n",
       "\n",
       "               ratio_lic_drivers_to_reg_veh tot_resident   male_16+  \\\n",
       "Virginia                           0.821550      8326289  3247094.0   \n",
       "Washington                         0.854013      7061530  2802234.0   \n",
       "West Virginia                      0.776182      1850326   741935.0   \n",
       "Wisconsin                          0.796763      5757564  2271230.0   \n",
       "Wyoming                            0.520003       584153   235007.0   \n",
       "\n",
       "               female_16+    tot_16+  drivers_per_1k_tot_resident  \\\n",
       "Virginia        3418338.0  6665432.0                   692.873260   \n",
       "Washington      2836195.0  5638429.0                   764.868095   \n",
       "West Virginia    771897.0  1513832.0                   633.351499   \n",
       "Wisconsin       2336067.0  4607297.0                   727.424654   \n",
       "Wyoming          225992.0   460999.0                   725.814983   \n",
       "\n",
       "               drivers_per_1k_driving_age  \n",
       "Virginia                       865.519744  \n",
       "Washington                     957.915583  \n",
       "West Virginia                  774.132629  \n",
       "Wisconsin                      909.034950  \n",
       "Wyoming                        919.713492  "
      ]
     },
     "execution_count": 11,
     "metadata": {},
     "output_type": "execute_result"
    }
   ],
   "source": [
    "dl1c_df.tail()"
   ]
  },
  {
   "cell_type": "code",
   "execution_count": 12,
   "metadata": {},
   "outputs": [
    {
     "data": {
      "text/plain": [
       "(51, 12)"
      ]
     },
     "execution_count": 12,
     "metadata": {},
     "output_type": "execute_result"
    }
   ],
   "source": [
    "dl1c_df.shape"
   ]
  },
  {
   "cell_type": "markdown",
   "metadata": {},
   "source": [
    "Examine the shape,data types and check for nulls in the dataframe"
   ]
  },
  {
   "cell_type": "code",
   "execution_count": 13,
   "metadata": {},
   "outputs": [
    {
     "name": "stdout",
     "output_type": "stream",
     "text": [
      "<class 'pandas.core.frame.DataFrame'>\n",
      "Index: 51 entries, Alabama to Wyoming\n",
      "Data columns (total 12 columns):\n",
      "male_drivers                    51 non-null float64\n",
      "percnt_male_of_tot              51 non-null float64\n",
      "female_drivers                  51 non-null float64\n",
      "percnt_female_of_tot            51 non-null float64\n",
      "tot_drivers                     51 non-null float64\n",
      "ratio_lic_drivers_to_reg_veh    51 non-null float64\n",
      "tot_resident                    51 non-null object\n",
      "male_16+                        51 non-null float64\n",
      "female_16+                      51 non-null float64\n",
      "tot_16+                         51 non-null float64\n",
      "drivers_per_1k_tot_resident     51 non-null float64\n",
      "drivers_per_1k_driving_age      51 non-null float64\n",
      "dtypes: float64(11), object(1)\n",
      "memory usage: 5.2+ KB\n"
     ]
    }
   ],
   "source": [
    "dl1c_df.info()"
   ]
  },
  {
   "cell_type": "markdown",
   "metadata": {},
   "source": [
    "Convert the object columns to numeric data types"
   ]
  },
  {
   "cell_type": "code",
   "execution_count": 14,
   "metadata": {},
   "outputs": [],
   "source": [
    "dl1c_df = dl1c_df.apply(pd.to_numeric, errors='coerce')"
   ]
  },
  {
   "cell_type": "code",
   "execution_count": 15,
   "metadata": {},
   "outputs": [
    {
     "name": "stdout",
     "output_type": "stream",
     "text": [
      "<class 'pandas.core.frame.DataFrame'>\n",
      "Index: 51 entries, Alabama to Wyoming\n",
      "Data columns (total 12 columns):\n",
      "male_drivers                    51 non-null float64\n",
      "percnt_male_of_tot              51 non-null float64\n",
      "female_drivers                  51 non-null float64\n",
      "percnt_female_of_tot            51 non-null float64\n",
      "tot_drivers                     51 non-null float64\n",
      "ratio_lic_drivers_to_reg_veh    51 non-null float64\n",
      "tot_resident                    51 non-null int64\n",
      "male_16+                        51 non-null float64\n",
      "female_16+                      51 non-null float64\n",
      "tot_16+                         51 non-null float64\n",
      "drivers_per_1k_tot_resident     51 non-null float64\n",
      "drivers_per_1k_driving_age      51 non-null float64\n",
      "dtypes: float64(11), int64(1)\n",
      "memory usage: 5.2+ KB\n"
     ]
    }
   ],
   "source": [
    "dl1c_df.info()"
   ]
  },
  {
   "cell_type": "markdown",
   "metadata": {},
   "source": [
    "Load the dl22 excel into a dataframe after stripping away the header rows "
   ]
  },
  {
   "cell_type": "code",
   "execution_count": 16,
   "metadata": {},
   "outputs": [],
   "source": [
    "dl22_df = pd.read_excel(\"dl22.xls\",index_col=0,skiprows=[0,1,2,3,4,5,6,7,8,9,10,11,12])"
   ]
  },
  {
   "cell_type": "code",
   "execution_count": 17,
   "metadata": {},
   "outputs": [
    {
     "data": {
      "text/plain": [
       "(52, 30)"
      ]
     },
     "execution_count": 17,
     "metadata": {},
     "output_type": "execute_result"
    }
   ],
   "source": [
    "dl22_df.shape"
   ]
  },
  {
   "cell_type": "code",
   "execution_count": 18,
   "metadata": {},
   "outputs": [
    {
     "data": {
      "text/plain": [
       "Index([      'UNDER',       '20-24',       '25-29',       '30-34',\n",
       "             '35-39',       '40-44',       '45-49',       '50-54',\n",
       "             '55-59',       '60-64',       '65-69',          '2/',\n",
       "              '2/.1',        '2/.2',    'OVER  2/',       'TOTAL',\n",
       "       'Unnamed: 17',     'STATE.1',         '<16',            16,\n",
       "                  17,            18,            19,            20,\n",
       "                  21,            22,            23,            24,\n",
       "       'Unnamed: 29', 'Unnamed: 30'],\n",
       "      dtype='object')"
      ]
     },
     "execution_count": 18,
     "metadata": {},
     "output_type": "execute_result"
    }
   ],
   "source": [
    "dl22_df.columns"
   ]
  },
  {
   "cell_type": "markdown",
   "metadata": {},
   "source": [
    "Rename the garbled column names into meaningful names"
   ]
  },
  {
   "cell_type": "code",
   "execution_count": 19,
   "metadata": {},
   "outputs": [],
   "source": [
    "dl22_df.rename({'UNDER':'19_and_under','2/':'70-74','2/.1':'75-79','2/.2':'80-84','OVER  2/':'85_over',\n",
    "                'TOTAL':'total'},axis='columns',inplace=True)"
   ]
  },
  {
   "cell_type": "code",
   "execution_count": 20,
   "metadata": {},
   "outputs": [
    {
     "data": {
      "text/plain": [
       "Index(['19_and_under',        '20-24',        '25-29',        '30-34',\n",
       "              '35-39',        '40-44',        '45-49',        '50-54',\n",
       "              '55-59',        '60-64',        '65-69',        '70-74',\n",
       "              '75-79',        '80-84',      '85_over',        'total',\n",
       "        'Unnamed: 17',      'STATE.1',          '<16',             16,\n",
       "                   17,             18,             19,             20,\n",
       "                   21,             22,             23,             24,\n",
       "        'Unnamed: 29',  'Unnamed: 30'],\n",
       "      dtype='object')"
      ]
     },
     "execution_count": 20,
     "metadata": {},
     "output_type": "execute_result"
    }
   ],
   "source": [
    "dl22_df.columns"
   ]
  },
  {
   "cell_type": "markdown",
   "metadata": {},
   "source": [
    "Delete duplicate \"State\" and empty columns from the dataframe"
   ]
  },
  {
   "cell_type": "code",
   "execution_count": 21,
   "metadata": {},
   "outputs": [],
   "source": [
    "dl22_df.drop(columns=['Unnamed: 17','STATE.1','Unnamed: 29','Unnamed: 30'],inplace=True)"
   ]
  },
  {
   "cell_type": "code",
   "execution_count": 22,
   "metadata": {},
   "outputs": [
    {
     "data": {
      "text/plain": [
       "(52, 26)"
      ]
     },
     "execution_count": 22,
     "metadata": {},
     "output_type": "execute_result"
    }
   ],
   "source": [
    "dl22_df.shape"
   ]
  },
  {
   "cell_type": "code",
   "execution_count": 23,
   "metadata": {},
   "outputs": [
    {
     "data": {
      "text/html": [
       "<div>\n",
       "<style scoped>\n",
       "    .dataframe tbody tr th:only-of-type {\n",
       "        vertical-align: middle;\n",
       "    }\n",
       "\n",
       "    .dataframe tbody tr th {\n",
       "        vertical-align: top;\n",
       "    }\n",
       "\n",
       "    .dataframe thead th {\n",
       "        text-align: right;\n",
       "    }\n",
       "</style>\n",
       "<table border=\"1\" class=\"dataframe\">\n",
       "  <thead>\n",
       "    <tr style=\"text-align: right;\">\n",
       "      <th></th>\n",
       "      <th>19_and_under</th>\n",
       "      <th>20-24</th>\n",
       "      <th>25-29</th>\n",
       "      <th>30-34</th>\n",
       "      <th>35-39</th>\n",
       "      <th>40-44</th>\n",
       "      <th>45-49</th>\n",
       "      <th>50-54</th>\n",
       "      <th>55-59</th>\n",
       "      <th>60-64</th>\n",
       "      <th>...</th>\n",
       "      <th>&lt;16</th>\n",
       "      <th>16</th>\n",
       "      <th>17</th>\n",
       "      <th>18</th>\n",
       "      <th>19</th>\n",
       "      <th>20</th>\n",
       "      <th>21</th>\n",
       "      <th>22</th>\n",
       "      <th>23</th>\n",
       "      <th>24</th>\n",
       "    </tr>\n",
       "    <tr>\n",
       "      <th>STATE</th>\n",
       "      <th></th>\n",
       "      <th></th>\n",
       "      <th></th>\n",
       "      <th></th>\n",
       "      <th></th>\n",
       "      <th></th>\n",
       "      <th></th>\n",
       "      <th></th>\n",
       "      <th></th>\n",
       "      <th></th>\n",
       "      <th></th>\n",
       "      <th></th>\n",
       "      <th></th>\n",
       "      <th></th>\n",
       "      <th></th>\n",
       "      <th></th>\n",
       "      <th></th>\n",
       "      <th></th>\n",
       "      <th></th>\n",
       "      <th></th>\n",
       "      <th></th>\n",
       "    </tr>\n",
       "  </thead>\n",
       "  <tbody>\n",
       "    <tr>\n",
       "      <td>Washington</td>\n",
       "      <td>103273</td>\n",
       "      <td>2.239880e+05</td>\n",
       "      <td>264237</td>\n",
       "      <td>284991</td>\n",
       "      <td>260997</td>\n",
       "      <td>254826</td>\n",
       "      <td>242804</td>\n",
       "      <td>255186</td>\n",
       "      <td>244773</td>\n",
       "      <td>214939</td>\n",
       "      <td>...</td>\n",
       "      <td>0</td>\n",
       "      <td>14494</td>\n",
       "      <td>22699</td>\n",
       "      <td>30080</td>\n",
       "      <td>36000</td>\n",
       "      <td>39629</td>\n",
       "      <td>41387</td>\n",
       "      <td>45385</td>\n",
       "      <td>47051</td>\n",
       "      <td>5.053600e+04</td>\n",
       "    </tr>\n",
       "    <tr>\n",
       "      <td>West Virginia</td>\n",
       "      <td>27990</td>\n",
       "      <td>3.415259e+04</td>\n",
       "      <td>38262</td>\n",
       "      <td>39021</td>\n",
       "      <td>41739</td>\n",
       "      <td>47022</td>\n",
       "      <td>47678</td>\n",
       "      <td>51894</td>\n",
       "      <td>57043</td>\n",
       "      <td>56931</td>\n",
       "      <td>...</td>\n",
       "      <td>0</td>\n",
       "      <td>8291</td>\n",
       "      <td>5846</td>\n",
       "      <td>6695</td>\n",
       "      <td>7158</td>\n",
       "      <td>6524</td>\n",
       "      <td>6762</td>\n",
       "      <td>7007</td>\n",
       "      <td>7031</td>\n",
       "      <td>6.828590e+03</td>\n",
       "    </tr>\n",
       "    <tr>\n",
       "      <td>Wisconsin</td>\n",
       "      <td>95403</td>\n",
       "      <td>1.647160e+05</td>\n",
       "      <td>173691</td>\n",
       "      <td>175892</td>\n",
       "      <td>158187</td>\n",
       "      <td>165863</td>\n",
       "      <td>183820</td>\n",
       "      <td>209474</td>\n",
       "      <td>197036</td>\n",
       "      <td>169019</td>\n",
       "      <td>...</td>\n",
       "      <td>0</td>\n",
       "      <td>17026</td>\n",
       "      <td>23829</td>\n",
       "      <td>26800</td>\n",
       "      <td>27748</td>\n",
       "      <td>29987</td>\n",
       "      <td>31318</td>\n",
       "      <td>33172</td>\n",
       "      <td>34965</td>\n",
       "      <td>3.527400e+04</td>\n",
       "    </tr>\n",
       "    <tr>\n",
       "      <td>Wyoming</td>\n",
       "      <td>11158</td>\n",
       "      <td>1.777800e+04</td>\n",
       "      <td>19741</td>\n",
       "      <td>19979</td>\n",
       "      <td>17319</td>\n",
       "      <td>16542</td>\n",
       "      <td>15788</td>\n",
       "      <td>18757</td>\n",
       "      <td>21048</td>\n",
       "      <td>19284</td>\n",
       "      <td>...</td>\n",
       "      <td>0</td>\n",
       "      <td>2205</td>\n",
       "      <td>2602</td>\n",
       "      <td>3101</td>\n",
       "      <td>3250</td>\n",
       "      <td>3379</td>\n",
       "      <td>3190</td>\n",
       "      <td>3567</td>\n",
       "      <td>3743</td>\n",
       "      <td>3.899000e+03</td>\n",
       "    </tr>\n",
       "    <tr>\n",
       "      <td>Total</td>\n",
       "      <td>4336080</td>\n",
       "      <td>8.918105e+06</td>\n",
       "      <td>9323670</td>\n",
       "      <td>9232528</td>\n",
       "      <td>8665981</td>\n",
       "      <td>9113887</td>\n",
       "      <td>9420844</td>\n",
       "      <td>10197935</td>\n",
       "      <td>9730998</td>\n",
       "      <td>8383497</td>\n",
       "      <td>...</td>\n",
       "      <td>31338</td>\n",
       "      <td>509455</td>\n",
       "      <td>951106</td>\n",
       "      <td>1303928</td>\n",
       "      <td>1540253</td>\n",
       "      <td>1651997</td>\n",
       "      <td>1708785</td>\n",
       "      <td>1794102</td>\n",
       "      <td>1855994</td>\n",
       "      <td>1.907227e+06</td>\n",
       "    </tr>\n",
       "  </tbody>\n",
       "</table>\n",
       "<p>5 rows × 26 columns</p>\n",
       "</div>"
      ],
      "text/plain": [
       "               19_and_under         20-24    25-29    30-34    35-39    40-44  \\\n",
       "STATE                                                                           \n",
       "Washington           103273  2.239880e+05   264237   284991   260997   254826   \n",
       "West Virginia         27990  3.415259e+04    38262    39021    41739    47022   \n",
       "Wisconsin             95403  1.647160e+05   173691   175892   158187   165863   \n",
       "Wyoming               11158  1.777800e+04    19741    19979    17319    16542   \n",
       "Total               4336080  8.918105e+06  9323670  9232528  8665981  9113887   \n",
       "\n",
       "                 45-49     50-54    55-59    60-64  ...    <16      16  \\\n",
       "STATE                                               ...                  \n",
       "Washington      242804    255186   244773   214939  ...      0   14494   \n",
       "West Virginia    47678     51894    57043    56931  ...      0    8291   \n",
       "Wisconsin       183820    209474   197036   169019  ...      0   17026   \n",
       "Wyoming          15788     18757    21048    19284  ...      0    2205   \n",
       "Total          9420844  10197935  9730998  8383497  ...  31338  509455   \n",
       "\n",
       "                   17       18       19       20       21       22       23  \\\n",
       "STATE                                                                         \n",
       "Washington      22699    30080    36000    39629    41387    45385    47051   \n",
       "West Virginia    5846     6695     7158     6524     6762     7007     7031   \n",
       "Wisconsin       23829    26800    27748    29987    31318    33172    34965   \n",
       "Wyoming          2602     3101     3250     3379     3190     3567     3743   \n",
       "Total          951106  1303928  1540253  1651997  1708785  1794102  1855994   \n",
       "\n",
       "                         24  \n",
       "STATE                        \n",
       "Washington     5.053600e+04  \n",
       "West Virginia  6.828590e+03  \n",
       "Wisconsin      3.527400e+04  \n",
       "Wyoming        3.899000e+03  \n",
       "Total          1.907227e+06  \n",
       "\n",
       "[5 rows x 26 columns]"
      ]
     },
     "execution_count": 23,
     "metadata": {},
     "output_type": "execute_result"
    }
   ],
   "source": [
    "dl22_df.tail()"
   ]
  },
  {
   "cell_type": "markdown",
   "metadata": {},
   "source": [
    "Examine dataframe and delete last row "
   ]
  },
  {
   "cell_type": "code",
   "execution_count": 24,
   "metadata": {},
   "outputs": [],
   "source": [
    "dl22_df = dl22_df.iloc[:-1,:]"
   ]
  },
  {
   "cell_type": "code",
   "execution_count": 25,
   "metadata": {},
   "outputs": [
    {
     "data": {
      "text/plain": [
       "(51, 26)"
      ]
     },
     "execution_count": 25,
     "metadata": {},
     "output_type": "execute_result"
    }
   ],
   "source": [
    "dl22_df.shape"
   ]
  },
  {
   "cell_type": "code",
   "execution_count": 26,
   "metadata": {},
   "outputs": [
    {
     "name": "stdout",
     "output_type": "stream",
     "text": [
      "<class 'pandas.core.frame.DataFrame'>\n",
      "Index: 51 entries, Alabama to Wyoming\n",
      "Data columns (total 26 columns):\n",
      "19_and_under    51 non-null int64\n",
      "20-24           51 non-null float64\n",
      "25-29           51 non-null int64\n",
      "30-34           51 non-null int64\n",
      "35-39           51 non-null int64\n",
      "40-44           51 non-null int64\n",
      "45-49           51 non-null int64\n",
      "50-54           51 non-null int64\n",
      "55-59           51 non-null int64\n",
      "60-64           51 non-null int64\n",
      "65-69           51 non-null int64\n",
      "70-74           51 non-null int64\n",
      "75-79           51 non-null int64\n",
      "80-84           51 non-null int64\n",
      "85_over         51 non-null int64\n",
      "total           51 non-null float64\n",
      "<16             51 non-null int64\n",
      "16              51 non-null int64\n",
      "17              51 non-null int64\n",
      "18              51 non-null int64\n",
      "19              51 non-null int64\n",
      "20              51 non-null int64\n",
      "21              51 non-null int64\n",
      "22              51 non-null int64\n",
      "23              51 non-null int64\n",
      "24              51 non-null float64\n",
      "dtypes: float64(3), int64(23)\n",
      "memory usage: 10.8+ KB\n"
     ]
    }
   ],
   "source": [
    "dl22_df.info()"
   ]
  },
  {
   "cell_type": "code",
   "execution_count": 27,
   "metadata": {},
   "outputs": [
    {
     "data": {
      "text/plain": [
       "Index(['Alabama', 'Alaska 2/', 'Arizona ', 'Arkansas ', 'California ',\n",
       "       'Colorado 2/', 'Connecticut', 'Delaware', 'Dist. of Col. ', 'Florida',\n",
       "       'Georgia', 'Hawaii', 'Idaho', 'Illinois 2/', 'Indiana  ', 'Iowa',\n",
       "       'Kansas', 'Kentucky ', 'Louisiana', 'Maine ', 'Maryland',\n",
       "       'Massachusetts 3/', 'Michigan', 'Minnesota', 'Mississippi', 'Missouri ',\n",
       "       'Montana', 'Nebraska', 'Nevada ', 'New Hampshire', 'New Jersey  ',\n",
       "       'New Mexico  ', 'New York ', 'North Carolina', 'North Dakota', 'Ohio',\n",
       "       'Oklahoma', 'Oregon', 'Pennsylvania', 'Rhode Island', 'South Carolina ',\n",
       "       'South Dakota', 'Tennessee ', 'Texas', 'Utah', 'Vermont', 'Virginia',\n",
       "       'Washington', 'West Virginia', 'Wisconsin', 'Wyoming'],\n",
       "      dtype='object', name='STATE')"
      ]
     },
     "execution_count": 27,
     "metadata": {},
     "output_type": "execute_result"
    }
   ],
   "source": [
    "dl22_df.index"
   ]
  },
  {
   "cell_type": "markdown",
   "metadata": {},
   "source": [
    "Sanitize index names by removing digits, forward slashes and whitespaces"
   ]
  },
  {
   "cell_type": "code",
   "execution_count": 28,
   "metadata": {},
   "outputs": [],
   "source": [
    "dl22_df.index = dl22_df.index.str.replace('\\d+','').str.rstrip('\\/').str.strip()"
   ]
  },
  {
   "cell_type": "markdown",
   "metadata": {},
   "source": [
    "Compare indexes in both the dataframes"
   ]
  },
  {
   "cell_type": "code",
   "execution_count": 29,
   "metadata": {},
   "outputs": [
    {
     "data": {
      "text/plain": [
       "Index(['Alabama', 'Alaska', 'Arizona', 'Arkansas', 'California', 'Colorado',\n",
       "       'Connecticut', 'Delaware', 'Dist. of Col.', 'Florida', 'Georgia',\n",
       "       'Hawaii', 'Idaho', 'Illinois', 'Indiana', 'Iowa', 'Kansas', 'Kentucky',\n",
       "       'Louisiana', 'Maine', 'Maryland', 'Massachusetts', 'Michigan',\n",
       "       'Minnesota', 'Mississippi', 'Missouri', 'Montana', 'Nebraska', 'Nevada',\n",
       "       'New Hampshire', 'New Jersey', 'New Mexico', 'New York',\n",
       "       'North Carolina', 'North Dakota', 'Ohio', 'Oklahoma', 'Oregon',\n",
       "       'Pennsylvania', 'Rhode Island', 'South Carolina', 'South Dakota',\n",
       "       'Tennessee', 'Texas', 'Utah', 'Vermont', 'Virginia', 'Washington',\n",
       "       'West Virginia', 'Wisconsin', 'Wyoming'],\n",
       "      dtype='object', name='STATE')"
      ]
     },
     "execution_count": 29,
     "metadata": {},
     "output_type": "execute_result"
    }
   ],
   "source": [
    "dl22_df.index"
   ]
  },
  {
   "cell_type": "code",
   "execution_count": 30,
   "metadata": {},
   "outputs": [
    {
     "data": {
      "text/plain": [
       "Index(['Alabama', 'Alaska', 'Arizona', 'Arkansas', 'California', 'Colorado',\n",
       "       'Connecticut', 'Delaware', 'Dist. of Col.', 'Florida', 'Georgia',\n",
       "       'Hawaii', 'Idaho', 'Illinois', 'Indiana', 'Iowa', 'Kansas', 'Kentucky',\n",
       "       'Louisiana', 'Maine', 'Maryland', 'Massachusetts', 'Michigan',\n",
       "       'Minnesota', 'Mississippi', 'Missouri', 'Montana', 'Nebraska', 'Nevada',\n",
       "       'New Hampshire', 'New Jersey', 'New Mexico', 'New York',\n",
       "       'North Carolina', 'North Dakota', 'Ohio', 'Oklahoma', 'Oregon',\n",
       "       'Pennsylvania', 'Rhode Island', 'South Carolina', 'South Dakota',\n",
       "       'Tennessee', 'Texas', 'Utah', 'Vermont', 'Virginia', 'Washington',\n",
       "       'West Virginia', 'Wisconsin', 'Wyoming'],\n",
       "      dtype='object')"
      ]
     },
     "execution_count": 30,
     "metadata": {},
     "output_type": "execute_result"
    }
   ],
   "source": [
    "dl1c_df.index"
   ]
  },
  {
   "cell_type": "markdown",
   "metadata": {},
   "source": [
    "Perform the join using top level pandas function using left and right index"
   ]
  },
  {
   "cell_type": "code",
   "execution_count": 31,
   "metadata": {},
   "outputs": [],
   "source": [
    "dl_df = pd.merge(dl1c_df, dl22_df,left_index=True,right_index=True)"
   ]
  },
  {
   "cell_type": "code",
   "execution_count": 32,
   "metadata": {},
   "outputs": [
    {
     "data": {
      "text/plain": [
       "Index([                'male_drivers',           'percnt_male_of_tot',\n",
       "                     'female_drivers',         'percnt_female_of_tot',\n",
       "                        'tot_drivers', 'ratio_lic_drivers_to_reg_veh',\n",
       "                       'tot_resident',                     'male_16+',\n",
       "                         'female_16+',                      'tot_16+',\n",
       "        'drivers_per_1k_tot_resident',   'drivers_per_1k_driving_age',\n",
       "                       '19_and_under',                        '20-24',\n",
       "                              '25-29',                        '30-34',\n",
       "                              '35-39',                        '40-44',\n",
       "                              '45-49',                        '50-54',\n",
       "                              '55-59',                        '60-64',\n",
       "                              '65-69',                        '70-74',\n",
       "                              '75-79',                        '80-84',\n",
       "                            '85_over',                        'total',\n",
       "                                '<16',                             16,\n",
       "                                   17,                             18,\n",
       "                                   19,                             20,\n",
       "                                   21,                             22,\n",
       "                                   23,                             24],\n",
       "      dtype='object')"
      ]
     },
     "execution_count": 32,
     "metadata": {},
     "output_type": "execute_result"
    }
   ],
   "source": [
    "dl_df.columns"
   ]
  },
  {
   "cell_type": "markdown",
   "metadata": {},
   "source": [
    "Confirm that the final dataframe has the all the correct information after the join"
   ]
  },
  {
   "cell_type": "code",
   "execution_count": 33,
   "metadata": {},
   "outputs": [
    {
     "name": "stdout",
     "output_type": "stream",
     "text": [
      "<class 'pandas.core.frame.DataFrame'>\n",
      "Index: 51 entries, Alabama to Wyoming\n",
      "Data columns (total 38 columns):\n",
      "male_drivers                    51 non-null float64\n",
      "percnt_male_of_tot              51 non-null float64\n",
      "female_drivers                  51 non-null float64\n",
      "percnt_female_of_tot            51 non-null float64\n",
      "tot_drivers                     51 non-null float64\n",
      "ratio_lic_drivers_to_reg_veh    51 non-null float64\n",
      "tot_resident                    51 non-null int64\n",
      "male_16+                        51 non-null float64\n",
      "female_16+                      51 non-null float64\n",
      "tot_16+                         51 non-null float64\n",
      "drivers_per_1k_tot_resident     51 non-null float64\n",
      "drivers_per_1k_driving_age      51 non-null float64\n",
      "19_and_under                    51 non-null int64\n",
      "20-24                           51 non-null float64\n",
      "25-29                           51 non-null int64\n",
      "30-34                           51 non-null int64\n",
      "35-39                           51 non-null int64\n",
      "40-44                           51 non-null int64\n",
      "45-49                           51 non-null int64\n",
      "50-54                           51 non-null int64\n",
      "55-59                           51 non-null int64\n",
      "60-64                           51 non-null int64\n",
      "65-69                           51 non-null int64\n",
      "70-74                           51 non-null int64\n",
      "75-79                           51 non-null int64\n",
      "80-84                           51 non-null int64\n",
      "85_over                         51 non-null int64\n",
      "total                           51 non-null float64\n",
      "<16                             51 non-null int64\n",
      "16                              51 non-null int64\n",
      "17                              51 non-null int64\n",
      "18                              51 non-null int64\n",
      "19                              51 non-null int64\n",
      "20                              51 non-null int64\n",
      "21                              51 non-null int64\n",
      "22                              51 non-null int64\n",
      "23                              51 non-null int64\n",
      "24                              51 non-null float64\n",
      "dtypes: float64(14), int64(24)\n",
      "memory usage: 18.0+ KB\n"
     ]
    }
   ],
   "source": [
    "dl_df.info()"
   ]
  },
  {
   "cell_type": "markdown",
   "metadata": {},
   "source": [
    "Confirm to make sure that the shape of the two dataframes and the final dataframe add up."
   ]
  },
  {
   "cell_type": "code",
   "execution_count": 34,
   "metadata": {},
   "outputs": [
    {
     "name": "stdout",
     "output_type": "stream",
     "text": [
      "(51, 12)\n",
      "(51, 26)\n",
      "(51, 38)\n"
     ]
    }
   ],
   "source": [
    "print(dl1c_df.shape)\n",
    "print(dl22_df.shape)\n",
    "print(dl_df.shape)"
   ]
  },
  {
   "cell_type": "code",
   "execution_count": 35,
   "metadata": {},
   "outputs": [
    {
     "data": {
      "text/plain": [
       "Index(['Alabama', 'Alaska', 'Arizona', 'Arkansas', 'California', 'Colorado',\n",
       "       'Connecticut', 'Delaware', 'Dist. of Col.', 'Florida', 'Georgia',\n",
       "       'Hawaii', 'Idaho', 'Illinois', 'Indiana', 'Iowa', 'Kansas', 'Kentucky',\n",
       "       'Louisiana', 'Maine', 'Maryland', 'Massachusetts', 'Michigan',\n",
       "       'Minnesota', 'Mississippi', 'Missouri', 'Montana', 'Nebraska', 'Nevada',\n",
       "       'New Hampshire', 'New Jersey', 'New Mexico', 'New York',\n",
       "       'North Carolina', 'North Dakota', 'Ohio', 'Oklahoma', 'Oregon',\n",
       "       'Pennsylvania', 'Rhode Island', 'South Carolina', 'South Dakota',\n",
       "       'Tennessee', 'Texas', 'Utah', 'Vermont', 'Virginia', 'Washington',\n",
       "       'West Virginia', 'Wisconsin', 'Wyoming'],\n",
       "      dtype='object')"
      ]
     },
     "execution_count": 35,
     "metadata": {},
     "output_type": "execute_result"
    }
   ],
   "source": [
    "dl_df.index"
   ]
  },
  {
   "cell_type": "markdown",
   "metadata": {},
   "source": [
    "Send the final dataframe to a csv file, load the csv in Excel and take a screenshot for the final deliverable"
   ]
  },
  {
   "cell_type": "code",
   "execution_count": 37,
   "metadata": {},
   "outputs": [],
   "source": [
    "dl_df.to_csv(\"dl_df.csv\")   "
   ]
  }
 ],
 "metadata": {
  "kernelspec": {
   "display_name": "Python 3",
   "language": "python",
   "name": "python3"
  },
  "language_info": {
   "codemirror_mode": {
    "name": "ipython",
    "version": 3
   },
   "file_extension": ".py",
   "mimetype": "text/x-python",
   "name": "python",
   "nbconvert_exporter": "python",
   "pygments_lexer": "ipython3",
   "version": "3.7.10"
  }
 },
 "nbformat": 4,
 "nbformat_minor": 2
}
